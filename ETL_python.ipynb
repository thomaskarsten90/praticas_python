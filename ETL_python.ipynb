{
  "nbformat": 4,
  "nbformat_minor": 0,
  "metadata": {
    "colab": {
      "provenance": [],
      "authorship_tag": "ABX9TyPgHsVZE7+8oE7SvCY31xaZ",
      "include_colab_link": true
    },
    "kernelspec": {
      "name": "python3",
      "display_name": "Python 3"
    },
    "language_info": {
      "name": "python"
    }
  },
  "cells": [
    {
      "cell_type": "markdown",
      "metadata": {
        "id": "view-in-github",
        "colab_type": "text"
      },
      "source": [
        "<a href=\"https://colab.research.google.com/github/thomaskarsten90/praticas_python/blob/main/ETL_python.ipynb\" target=\"_parent\"><img src=\"https://colab.research.google.com/assets/colab-badge.svg\" alt=\"Open In Colab\"/></a>"
      ]
    },
    {
      "cell_type": "code",
      "execution_count": 1,
      "metadata": {
        "colab": {
          "base_uri": "https://localhost:8080/"
        },
        "id": "MrVwsKTxUYE-",
        "outputId": "5680f286-4036-4520-988a-367dbe70045b"
      },
      "outputs": [
        {
          "output_type": "stream",
          "name": "stdout",
          "text": [
            " CSV sujo criado: nacionalidade_raw.csv\n",
            "   id nacionalidade\n",
            "0   1  BrasileiraRa\n",
            "1   2   Brasileiroh\n",
            "2   3   Brasileiro⁸\n",
            "3   4     BRSILEIRO\n",
            "4   5   Brasileiro2\n"
          ]
        }
      ],
      "source": [
        "import pandas as pd\n",
        "import unicodedata\n",
        "import re\n",
        "\n",
        "# ====================================\n",
        "# 1. Criar um CSV de exemplo (dados sujos)\n",
        "# ====================================\n",
        "dados = {\n",
        "    \"id\": [1, 2, 3, 4, 5, 6, 7, 8, 9, 10],\n",
        "    \"nacionalidade\": [\n",
        "        \"BrasileiraRa\",\n",
        "        \"Brasileiroh\",\n",
        "        \"Brasileiro⁸\",\n",
        "        \"BRSILEIRO\",\n",
        "        \"Brasileiro2\",\n",
        "        \"BRASILEIRO \",\n",
        "        \"brasileiro\",\n",
        "        \"COLOMBIANO\",\n",
        "        \"colombia\",\n",
        "        \"Venezuelano\"\n",
        "    ]\n",
        "}\n",
        "\n",
        "df_raw = pd.DataFrame(dados)\n",
        "df_raw.to_csv(\"nacionalidade_raw.csv\", index=False, encoding=\"utf-8\")\n",
        "print(\" CSV sujo criado: nacionalidade_raw.csv\")\n",
        "print(df_raw.head())\n"
      ]
    },
    {
      "cell_type": "code",
      "source": [
        "# ====================================\n",
        "# 2. Funções de limpeza\n",
        "# ====================================\n",
        "def remover_acentos(texto: str) -> str:\n",
        "    \"\"\"Remove acentos e normaliza unicode.\"\"\"\n",
        "    if pd.isna(texto):\n",
        "        return \"\"\n",
        "    nfkd = unicodedata.normalize(\"NFKD\", texto)\n",
        "    return \"\".join([c for c in nfkd if not unicodedata.combining(c)])\n",
        "\n",
        "def limpar_string(texto: str) -> str:\n",
        "    \"\"\"Remove números, caracteres estranhos e espaços extras.\"\"\"\n",
        "    if pd.isna(texto):\n",
        "        return \"\"\n",
        "    texto = texto.upper().strip()  # maiúsculas + tira espaços\n",
        "    texto = remover_acentos(texto) # tira acentos\n",
        "    texto = re.sub(r\"[^A-Z ]\", \"\", texto)  # mantém só letras e espaço\n",
        "    return texto\n",
        "\n",
        "def padronizar_nacionalidade(texto: str) -> str:\n",
        "    \"\"\"Padroniza nacionalidades conhecidas.\"\"\"\n",
        "    texto = limpar_string(texto)\n",
        "    if \"BRASIL\" in texto or \"BRASILEIR\" in texto:\n",
        "        return \"BRASILEIRO\"\n",
        "    elif \"COLOMB\" in texto:\n",
        "        return \"COLOMBIANO\"\n",
        "    elif \"VENEZ\" in texto:\n",
        "        return \"VENEZUELANO\"\n",
        "    else:\n",
        "        return \"OUTROS\"\n"
      ],
      "metadata": {
        "id": "6qD_PhItUx5Q"
      },
      "execution_count": 2,
      "outputs": []
    },
    {
      "cell_type": "code",
      "source": [
        "# ====================================\n",
        "# 3. Mini ETL (Extract, Transform, Load)\n",
        "# ====================================\n",
        "\n",
        "# Extract\n",
        "df = pd.read_csv(\"nacionalidade_raw.csv\")\n",
        "\n",
        "# Transform\n",
        "df[\"nacionalidade_limpa\"] = df[\"nacionalidade\"].apply(padronizar_nacionalidade)\n",
        "\n",
        "# Load\n",
        "df.to_csv(\"nacionalidade_clean.csv\", index=False, encoding=\"utf-8\")\n",
        "\n",
        "print(\" ETL finalizado! Arquivo salvo: nacionalidade_clean.csv\")\n",
        "print(df.head())"
      ],
      "metadata": {
        "colab": {
          "base_uri": "https://localhost:8080/"
        },
        "id": "6mwnvX2CU1Xk",
        "outputId": "a3038bcd-85fa-4599-edf9-450ac61396a7"
      },
      "execution_count": 3,
      "outputs": [
        {
          "output_type": "stream",
          "name": "stdout",
          "text": [
            " ETL finalizado! Arquivo salvo: nacionalidade_clean.csv\n",
            "   id nacionalidade nacionalidade_limpa\n",
            "0   1  BrasileiraRa          BRASILEIRO\n",
            "1   2   Brasileiroh          BRASILEIRO\n",
            "2   3   Brasileiro⁸          BRASILEIRO\n",
            "3   4     BRSILEIRO              OUTROS\n",
            "4   5   Brasileiro2          BRASILEIRO\n"
          ]
        }
      ]
    }
  ]
}